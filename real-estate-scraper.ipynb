{
 "cells": [
  {
   "cell_type": "markdown",
   "metadata": {},
   "source": [
    "## Texas Real Estate Web Scraper\n",
    "\n",
    "This web scraper was used for a site that contains Texas real estate, water district, and bond data. "
   ]
  },
  {
   "cell_type": "code",
   "execution_count": 1,
   "metadata": {},
   "outputs": [],
   "source": [
    "import requests\n",
    "import pandas as pd\n",
    "import re\n",
    "from bs4 import BeautifulSoup\n",
    "import datetime as dt\n",
    "\n",
    "har = requests.get(\"https://www.___.com/texasrealestate/waterdistricts\") # Request webpage contents\n",
    "soup = BeautifulSoup(har.content, 'html.parser')"
   ]
  },
  {
   "cell_type": "code",
   "execution_count": 2,
   "metadata": {},
   "outputs": [],
   "source": [
    "results = soup.find(id='highlist_tbl')\n",
    "har_elems = results.find_all('div', class_='cell')\n",
    "\n",
    "# Strip HTML data\n",
    "result = []\n",
    "for har_elem in har_elems:\n",
    "    text = har_elem.get_text(strip = True)\n",
    "    result.append(text)\n",
    "\n",
    "final = list(result)"
   ]
  },
  {
   "cell_type": "code",
   "execution_count": 3,
   "metadata": {},
   "outputs": [],
   "source": [
    "# Creating separate lists for each column of data we want\n",
    "district = []\n",
    "county = []\n",
    "tax_rate = []\n",
    "tax_year = []\n",
    "bonds_authorized = []\n",
    "bonds_issued = []\n",
    "\n",
    "length = int((len(final) - 6) / 6) # To avoid range errors\n",
    "i = 5\n",
    "for string in range(length):\n",
    "    district.append(final[i+1])\n",
    "    county.append(final[i+2])\n",
    "    tax_rate.append(final[i+3])\n",
    "    tax_year.append(final[i+4])\n",
    "    bonds_authorized.append(final[i+5])\n",
    "    bonds_issued.append(final[i+6])\n",
    "    i += 6\n",
    "    \n",
    "data = pd.DataFrame()\n",
    "\n",
    "# Adding the columns we created to our dataframe\n",
    "data['District'] = district\n",
    "data['County'] = county\n",
    "data['Tax Rate'] = tax_rate\n",
    "data['Tax Year'] = tax_year\n",
    "data['Bonds Authorized'] = bonds_authorized\n",
    "data['Bonds Issued'] = bonds_issued"
   ]
  },
  {
   "cell_type": "code",
   "execution_count": 4,
   "metadata": {},
   "outputs": [],
   "source": [
    "# Formatting the data and extracting data needed from the strings\n",
    "columns_to_numeric = ['Bonds Authorized', 'Bonds Issued']\n",
    "\n",
    "for col in columns_to_numeric:\n",
    "    data[col] = data[col].str.extract(r\"(\\d*,*\\d+,*\\d+,*\\d+,*)\")\n",
    "    data[col] = data[col].replace({',':''},regex=True).fillna(0).astype(int)\n",
    "    \n",
    "data['Tax Year'] = data['Tax Year'].str.extract(r\"(\\d+)\").fillna(0)\n",
    "data['Tax Year'] = data['Tax Year'].astype(int)\n",
    "\n",
    "data['Tax Rate'] = data['Tax Rate'].str.extract(r\"(\\d+.\\d+)\").fillna(0)\n",
    "data['Tax Rate'] = pd.to_numeric(data['Tax Rate'])\n",
    "\n",
    "data['County'] = data['County'].str.extract(r\"([^:]*$)\")"
   ]
  },
  {
   "cell_type": "code",
   "execution_count": 5,
   "metadata": {},
   "outputs": [],
   "source": [
    "# Export to a csv with today's date\n",
    "today = dt.datetime.today().strftime('%m%d%Y')  \n",
    "output_file = 'har_data_{}.csv'.format(today)\n",
    "\n",
    "data.to_csv(output_file, index=False)"
   ]
  }
 ],
 "metadata": {
  "kernelspec": {
   "display_name": "Python 3",
   "language": "python",
   "name": "python3"
  },
  "language_info": {
   "codemirror_mode": {
    "name": "ipython",
    "version": 3
   },
   "file_extension": ".py",
   "mimetype": "text/x-python",
   "name": "python",
   "nbconvert_exporter": "python",
   "pygments_lexer": "ipython3",
   "version": "3.7.10"
  }
 },
 "nbformat": 4,
 "nbformat_minor": 4
}
